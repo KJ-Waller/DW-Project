{
 "cells": [
  {
   "cell_type": "code",
   "execution_count": 37,
   "metadata": {},
   "outputs": [],
   "source": [
    "import pandas as pd\n",
    "import time\n",
    "import re\n",
    "import matplotlib.pyplot as plt\n",
    "from datetime import datetime"
   ]
  },
  {
   "cell_type": "code",
   "execution_count": 2,
   "metadata": {},
   "outputs": [],
   "source": [
    "# Base url to append dates to\n",
    "base_url = 'http://schiphol.dutchplanespotters.nl/?date='\n",
    "# Create list of dates for 2017 and 2018 (730 days)\n",
    "date_range = pd.date_range('2017-01-01 00:00:00', '2018-12-31 00:00:00', freq='D').strftime('%Y-%m-%d')\n",
    "# Create list of urls for all days, by appending date to base url\n",
    "urls = [base_url + date for date in date_range]"
   ]
  },
  {
   "cell_type": "code",
   "execution_count": null,
   "metadata": {},
   "outputs": [],
   "source": [
    "# Crawler: Pulls tables from the url list with one second delay after each request\n",
    "# Saves to dataframe df\n",
    "df = pd.DataFrame()\n",
    "for i, url in enumerate(urls[:5]):\n",
    "    # Pull info from url\n",
    "    day_flights = pd.read_html(url)[0]\n",
    "    \n",
    "    # Get number of rows and current date\n",
    "    num_rows = len(day_flights)\n",
    "    curr_date = date_range[i]\n",
    "    \n",
    "    date_column = pd.Series([curr_date] * num_rows)\n",
    "    day_flights['date'] = date_column\n",
    "    \n",
    "    df = df.append(day_flights)\n",
    "    time.sleep(1)\n",
    "    print('Request number: ', i)"
   ]
  },
  {
   "cell_type": "code",
   "execution_count": null,
   "metadata": {},
   "outputs": [],
   "source": [
    "# Writes crawled information to a csv file (for raw backup)\n",
    "open('schiphol-pulled-data.csv', 'w').write(df.to_csv())"
   ]
  },
  {
   "cell_type": "code",
   "execution_count": 2,
   "metadata": {},
   "outputs": [],
   "source": [
    "# Read csv and drop unnecessary row and column\n",
    "df = pd.read_csv('schiphol-flights-2017-2018.csv')\n",
    "df = df.drop(df.columns[0], axis=1)\n",
    "df = df.drop(index=0)"
   ]
  },
  {
   "cell_type": "code",
   "execution_count": 3,
   "metadata": {},
   "outputs": [],
   "source": [
    "# Change column names for semantics\n",
    "column_names = ['Cargo', 'Aircraft', 'Airline', 'Registration', 'Remark', 'Gate', 'Arr_FlightNr', 'Origin', 'STA', 'ETA', 'Status', 'Dep_FlightNr', 'Destination', 'STD', 'ETD', 'Status', 'Date']\n",
    "df.columns = column_names"
   ]
  },
  {
   "cell_type": "code",
   "execution_count": 4,
   "metadata": {},
   "outputs": [
    {
     "name": "stderr",
     "output_type": "stream",
     "text": [
      "/home/kjw/anaconda3/lib/python3.6/site-packages/ipykernel_launcher.py:13: FutureWarning: A future version of pandas will perform index alignment when `others` is a Series/Index/DataFrame (or a list-like containing one). To disable alignment (the behavior before v.0.23) and silence this warning, use `.values` on any Series/Index/DataFrame in `others`. To enable alignment and silence this warning, pass `join='left'|'outer'|'inner'|'right'`. The future default will be `join='left'`.\n",
      "  del sys.path[0]\n"
     ]
    }
   ],
   "source": [
    "# This function appends the date (%Y-%m-%d) to a specified column where records\n",
    "# are missing this date\n",
    "def add_date_to_time(col_name):\n",
    "    df_copy = df.copy()\n",
    "    mask = df_copy[col_name].str.contains('\\d{2}:\\d{2}\\Z').fillna(False)\n",
    "\n",
    "    df_copy['Date'] = pd.to_datetime(df_copy['Date'], format='%Y-%m-%d')\n",
    "    date_string = df_copy['Date'].copy()\n",
    "    date_string = date_string.loc[mask]\n",
    "    date_string = pd.DatetimeIndex(date_string)\n",
    "    date_string = date_string.strftime('(%d-%m-%y)')\n",
    "\n",
    "    df_copy.loc[mask, col_name] = df_copy.loc[mask, col_name].str.cat(date_string, sep =' ')\n",
    "    return df_copy\n",
    "\n",
    "# Run this function on our 4 columns and convert to datetime\n",
    "df['STA'] = pd.to_datetime(add_date_to_time('STA')['STA'], format='%H:%M (%d-%m-%y)')\n",
    "df['ETA'] = pd.to_datetime(add_date_to_time('ETA')['ETA'], format='%H:%M (%d-%m-%y)')\n",
    "df['STD'] = pd.to_datetime(add_date_to_time('STD')['STD'], format='%H:%M (%d-%m-%y)')\n",
    "df['ETD'] = pd.to_datetime(add_date_to_time('ETD')['ETD'], format='%H:%M (%d-%m-%y)')"
   ]
  },
  {
   "cell_type": "code",
   "execution_count": 5,
   "metadata": {},
   "outputs": [
    {
     "data": {
      "text/plain": [
       "146929840"
      ]
     },
     "execution_count": 5,
     "metadata": {},
     "output_type": "execute_result"
    }
   ],
   "source": [
    "# Finally, calculate arrival and departure delays for flights\n",
    "df['Arr_Delay'] = df['ETA'] - df['STA']\n",
    "df['Dep_Delay'] = df['ETD'] - df['STD']\n",
    "\n",
    "# Not all airline names are the same. We use the flight code to extract the 2 or 3 letter airline code\n",
    "# and replace the 'Airline' column with these codes instead. Using our airline mapping above, we can \n",
    "# translate these back to names later\n",
    "df['Airline'] = df['Arr_FlightNr'].str.extract('([A-Z]{2,3}) ', flags=re.IGNORECASE)\n",
    "\n",
    "# Write cleaned data to csv\n",
    "open('schiphol-cleaned-data-2017-2018.csv', 'w').write(df.to_csv())"
   ]
  },
  {
   "cell_type": "code",
   "execution_count": 6,
   "metadata": {},
   "outputs": [],
   "source": [
    "# Airline name translation \n",
    "airline_url = 'https://en.wikipedia.org/wiki/List_of_airline_codes'\n",
    "# airline_table = pd.read_html(airline_url)[3]\n",
    "airline_table = pd.read_html(airline_url)[0][[0, 1, 2]]\n",
    "airline_table.columns = airline_table.loc[0]\n",
    "airline_table = airline_table.drop(index=0)"
   ]
  },
  {
   "cell_type": "code",
   "execution_count": 181,
   "metadata": {},
   "outputs": [
    {
     "data": {
      "image/png": "[encoded data removed]",
      "text/plain": [
       "<Figure size 1080x540 with 1 Axes>"
      ]
     },
     "metadata": {
      "needs_background": "light"
     },
     "output_type": "display_data"
    }
   ],
   "source": [
    "def top_100_airlines_by_delay():\n",
    "    # Average delay per airline\n",
    "    top_100_airlines = df['Airline'].value_counts()[:100]\n",
    "    \n",
    "    # Make copy of df and calculate Arrival, Departure and Average delay for all flights\n",
    "    delays = df.copy()\n",
    "    delays['Arr_Delay'] = delays['Arr_Delay'].dt.total_seconds()\n",
    "    delays['Dep_Delay'] = delays['Dep_Delay'].dt.total_seconds()\n",
    "    delays['Avg_Delay'] = (delays['Arr_Delay'] + delays['Dep_Delay'])/2\n",
    "    \n",
    "    # Get average delay per airline\n",
    "    delays = delays[['Airline', 'Arr_Delay', 'Dep_Delay', 'Avg_Delay']].groupby('Airline').mean()\n",
    "    \n",
    "    # Sort list by average delays\n",
    "    delays = delays.loc[delays.index.isin(top_100_airlines.index)].sort_values(by='Avg_Delay', ascending=False)\n",
    "    delays.reset_index(inplace=True)\n",
    "    \n",
    "    # Change airline 2-letter code to airline name\n",
    "    for code in delays['Airline']:\n",
    "\n",
    "        if code in airline_table['IATA'].tolist():\n",
    "            airline_name = airline_table['Airline'].loc[airline_table['IATA'] == code]\n",
    "            delays = delays.replace(code, airline_name.iloc[0])\n",
    "        elif code in airline_table['ICAO'].tolist():\n",
    "            airline_name = airline_table['Airline'].loc[airline_table['ICAO'] == code]\n",
    "            delays = delays.replace(code, airline_name.iloc[0])\n",
    "    \n",
    "    # Convert average delay from integer to Datetime\n",
    "    delays['Avg_Delay'] = delays['Avg_Delay']/60\n",
    "    delays = delays[['Airline', 'Avg_Delay']]\n",
    "    \n",
    "    # Plot bar graph and return delays\n",
    "    ax = delays.plot.bar(legend=False, figsize=(15, 7.5))\n",
    "    ax.set_xlabel('Airline Rank')\n",
    "    ax.set_ylabel('Delay (minutes)')\n",
    "    return delays\n",
    "    \n",
    "top_100_airline_delays = top_100_airlines_by_delay()"
   ]
  },
  {
   "cell_type": "code",
   "execution_count": 183,
   "metadata": {},
   "outputs": [
    {
     "data": {
      "image/png": "[encoded data removed]",
      "text/plain": [
       "<Figure size 720x360 with 1 Axes>"
      ]
     },
     "metadata": {
      "needs_background": "light"
     },
     "output_type": "display_data"
    },
    {
     "data": {
      "image/png": "[encoded data removed]",
      "text/plain": [
       "<Figure size 720x360 with 1 Axes>"
      ]
     },
     "metadata": {
      "needs_background": "light"
     },
     "output_type": "display_data"
    }
   ],
   "source": [
    "# Weather delay correlation\n",
    "\n",
    "# Read weather data from csv\n",
    "weather_csv = pd.read_csv('weather_schiphol_2017-2018.csv')\n",
    "weather_csv = weather_csv.drop(weather_csv.columns[0], axis=1)\n",
    "\n",
    "def weather_delay_corr(selection=0, plottype='line'):\n",
    "    # Options for independent variable to plot again dependent variable \"Delay\"\n",
    "    options = ['avg_windspeed', 'max_windspeed', 'avg_temp', 'max_temp', 'avg_downfall', 'min_vis', 'avg_overcast']\n",
    "    option = options[selection]\n",
    "    \n",
    "    # Title and x label generation\n",
    "    title = option.replace('_', ' ').capitalize() + ' vs Delay'\n",
    "    xlabl = option.replace('_', ' ').capitalize()\n",
    "    \n",
    "    # Create copy of original flight dataframe, convert date time to seconds\n",
    "    delays = df.copy()\n",
    "    delays['Arr_Delay'] = delays['Arr_Delay'].dt.total_seconds()\n",
    "    delays['Dep_Delay'] = delays['Dep_Delay'].dt.total_seconds()\n",
    "    \n",
    "    # Calculate average delay for each row (over arrival and departure)\n",
    "    delays['Avg_Delay'] = (delays['Arr_Delay'] + delays['Dep_Delay'])/2\n",
    "\n",
    "    # Get average delay for each day and reset index\n",
    "    delays = delays[['Date', 'Avg_Delay']].groupby('Date').mean()\n",
    "    delays.reset_index(inplace=True)\n",
    "    \n",
    "    # Merge delays table with weather table on the specified independent variable\n",
    "    delay_windspeed_per_day = delays.merge(right=weather_csv, left_on='Date', right_on='date')[['Avg_Delay', option]]\n",
    "    # Sort by independent variable\n",
    "    delay_windspeed_per_day = delay_windspeed_per_day.sort_values(option)\n",
    "    # Remove irrelevant data\n",
    "    delay_windspeed_per_day = delay_windspeed_per_day[(delay_windspeed_per_day[option] != -1.0)]\n",
    "    # Group by independent variable to remove duplicates\n",
    "    delay_windspeed_per_day = delay_windspeed_per_day.groupby(option).mean()\n",
    "    # Convert delay to minutes instead of seconds\n",
    "    delay_windspeed_per_day['Avg_Delay'] = delay_windspeed_per_day['Avg_Delay']/60\n",
    "    # Reset index again\n",
    "    delay_windspeed_per_day.reset_index(inplace=True)\n",
    "    \n",
    "    # Plot, without legenad, using our generated title and axes labels.\n",
    "    ax = delay_windspeed_per_day.plot(x=option, y='Avg_Delay', kind=plottype, figsize=(10, 5), legend=False, title=title)\n",
    "    ax.set_ylabel('Delay (minutes)')\n",
    "    ax.set_xlabel(xlabl)\n",
    "    \n",
    "    # Return dataframe for more insight into data\n",
    "    return delay_windspeed_per_day\n",
    "\n",
    "delay = weather_delay_corr(6, 'bar')\n",
    "\n",
    "delay = weather_delay_corr(1, 'line')"
   ]
  },
  {
   "cell_type": "code",
   "execution_count": null,
   "metadata": {},
   "outputs": [],
   "source": []
  },
  {
   "cell_type": "code",
   "execution_count": null,
   "metadata": {},
   "outputs": [],
   "source": []
  },
  {
   "cell_type": "code",
   "execution_count": null,
   "metadata": {},
   "outputs": [],
   "source": []
  },
  {
   "cell_type": "code",
   "execution_count": null,
   "metadata": {},
   "outputs": [],
   "source": []
  },
  {
   "cell_type": "code",
   "execution_count": null,
   "metadata": {},
   "outputs": [],
   "source": []
  }
 ],
 "metadata": {
  "kernelspec": {
   "display_name": "Python 3",
   "language": "python",
   "name": "python3"
  },
  "language_info": {
   "codemirror_mode": {
    "name": "ipython",
    "version": 3
   },
   "file_extension": ".py",
   "mimetype": "text/x-python",
   "name": "python",
   "nbconvert_exporter": "python",
   "pygments_lexer": "ipython3",
   "version": "3.6.8"
  }
 },
 "nbformat": 4,
 "nbformat_minor": 2
}
