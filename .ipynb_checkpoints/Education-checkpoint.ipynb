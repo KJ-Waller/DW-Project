{
 "cells": [
  {
   "cell_type": "code",
   "execution_count": 6,
   "metadata": {},
   "outputs": [],
   "source": [
    "# BBGA Data from Amsterdam Municipality: https://bit.ly/2AUicED\n",
    "\n",
    "import pandas as pd"
   ]
  },
  {
   "cell_type": "code",
   "execution_count": 7,
   "metadata": {},
   "outputs": [],
   "source": [
    "file = './bbga_latest_and_greatest-DX.csv'\n",
    "bbga = pd.read_csv(file)"
   ]
  },
  {
   "cell_type": "code",
   "execution_count": 8,
   "metadata": {},
   "outputs": [],
   "source": [
    "def age_dist(region, year):\n",
    "    dxareas_bbga = bbga.set_index('gebiedcode15')\n",
    "    bev_mask = dxareas_bbga.variabele.str.contains('BEV\\d?[0|5]_\\d?[9|4]{1}\\Z')\n",
    "\n",
    "    age_groups = dxareas_bbga.loc[(bev_mask) & (dxareas_bbga['jaar'] == year) & (dxareas_bbga.index == region)]\n",
    "    age_groups.reset_index(inplace=True)\n",
    "    drop_idx = age_groups.loc[(age_groups['variabele'] == 'BEV65_74') | (age_groups['variabele'] == 'BEV40_64')].index\n",
    "    age_groups.drop(axis='index', index=drop_idx, inplace=True)\n",
    "    age_groups.loc[age_groups['variabele'] == 'BEV0_4', 'variabele'] = 'BEV00_04'\n",
    "    age_groups.loc[age_groups['variabele'] == 'BEV5_9', 'variabele'] = 'BEV05_09'\n",
    "    age_groups = age_groups.sort_values('variabele').set_index('variabele')\n",
    "\n",
    "    age_groups.plot.barh(y='waarde')"
   ]
  },
  {
   "cell_type": "code",
   "execution_count": 9,
   "metadata": {},
   "outputs": [
    {
     "name": "stderr",
     "output_type": "stream",
     "text": [
      "/home/kjw/anaconda3/lib/python3.6/site-packages/pandas/core/frame.py:3694: SettingWithCopyWarning: \n",
      "A value is trying to be set on a copy of a slice from a DataFrame\n",
      "\n",
      "See the caveats in the documentation: http://pandas.pydata.org/pandas-docs/stable/indexing.html#indexing-view-versus-copy\n",
      "  errors=errors)\n",
      "/home/kjw/anaconda3/lib/python3.6/site-packages/pandas/core/indexing.py:543: SettingWithCopyWarning: \n",
      "A value is trying to be set on a copy of a slice from a DataFrame.\n",
      "Try using .loc[row_indexer,col_indexer] = value instead\n",
      "\n",
      "See the caveats in the documentation: http://pandas.pydata.org/pandas-docs/stable/indexing.html#indexing-view-versus-copy\n",
      "  self.obj[item] = s\n"
     ]
    },
    {
     "data": {
      "image/png": "[encoded data removed]",
      "text/plain": [
       "<Figure size 432x288 with 1 Axes>"
      ]
     },
     "metadata": {},
     "output_type": "display_data"
    }
   ],
   "source": [
    "age_dist('DX20', 2017)"
   ]
  },
  {
   "cell_type": "code",
   "execution_count": 50,
   "metadata": {},
   "outputs": [
    {
     "ename": "ValueError",
     "evalue": "Upsampling from level= or on= selection is not supported, use .set_index(...) to explicitly set index to datetime-like",
     "output_type": "error",
     "traceback": [
      "\u001b[0;31m---------------------------------------------------------------------------\u001b[0m",
      "\u001b[0;31mValueError\u001b[0m                                Traceback (most recent call last)",
      "\u001b[0;32m<ipython-input-50-087e8d2789c3>\u001b[0m in \u001b[0;36m<module>\u001b[0;34m()\u001b[0m\n\u001b[1;32m     18\u001b[0m     \u001b[0;32mreturn\u001b[0m \u001b[0mage_groups\u001b[0m\u001b[0;34m\u001b[0m\u001b[0m\n\u001b[1;32m     19\u001b[0m \u001b[0;34m\u001b[0m\u001b[0m\n\u001b[0;32m---> 20\u001b[0;31m \u001b[0mcorr_edu_par_homo\u001b[0m\u001b[0;34m(\u001b[0m\u001b[0;34m'DX20'\u001b[0m\u001b[0;34m)\u001b[0m\u001b[0;34m\u001b[0m\u001b[0m\n\u001b[0m\u001b[1;32m     21\u001b[0m \u001b[0;34m\u001b[0m\u001b[0m\n\u001b[1;32m     22\u001b[0m \u001b[0;31m# df = df.reset_index()\u001b[0m\u001b[0;34m\u001b[0m\u001b[0;34m\u001b[0m\u001b[0m\n",
      "\u001b[0;32m<ipython-input-50-087e8d2789c3>\u001b[0m in \u001b[0;36mcorr_edu_par_homo\u001b[0;34m(region)\u001b[0m\n\u001b[1;32m     15\u001b[0m \u001b[0;34m\u001b[0m\u001b[0m\n\u001b[1;32m     16\u001b[0m     \u001b[0mage_groups\u001b[0m \u001b[0;34m=\u001b[0m \u001b[0mage_groups\u001b[0m\u001b[0;34m.\u001b[0m\u001b[0mgroupby\u001b[0m\u001b[0;34m(\u001b[0m\u001b[0;34m[\u001b[0m\u001b[0;34m'variabele'\u001b[0m\u001b[0;34m,\u001b[0m \u001b[0;34m'jaar'\u001b[0m\u001b[0;34m]\u001b[0m\u001b[0;34m)\u001b[0m\u001b[0;34m.\u001b[0m\u001b[0msum\u001b[0m\u001b[0;34m(\u001b[0m\u001b[0;34m)\u001b[0m\u001b[0;34m\u001b[0m\u001b[0m\n\u001b[0;32m---> 17\u001b[0;31m     \u001b[0mage_groups\u001b[0m \u001b[0;34m=\u001b[0m \u001b[0mage_groups\u001b[0m\u001b[0;34m.\u001b[0m\u001b[0mresample\u001b[0m\u001b[0;34m(\u001b[0m\u001b[0;34m'A'\u001b[0m\u001b[0;34m,\u001b[0m \u001b[0mlevel\u001b[0m\u001b[0;34m=\u001b[0m\u001b[0;36m1\u001b[0m\u001b[0;34m)\u001b[0m\u001b[0;34m.\u001b[0m\u001b[0masfreq\u001b[0m\u001b[0;34m(\u001b[0m\u001b[0;34m)\u001b[0m\u001b[0;34m\u001b[0m\u001b[0m\n\u001b[0m\u001b[1;32m     18\u001b[0m     \u001b[0;32mreturn\u001b[0m \u001b[0mage_groups\u001b[0m\u001b[0;34m\u001b[0m\u001b[0m\n\u001b[1;32m     19\u001b[0m \u001b[0;34m\u001b[0m\u001b[0m\n",
      "\u001b[0;32m~/anaconda3/lib/python3.6/site-packages/pandas/core/resample.py\u001b[0m in \u001b[0;36masfreq\u001b[0;34m(self, fill_value)\u001b[0m\n\u001b[1;32m    715\u001b[0m         \u001b[0mDataFrame\u001b[0m\u001b[0;34m.\u001b[0m\u001b[0masfreq\u001b[0m\u001b[0;34m\u001b[0m\u001b[0m\n\u001b[1;32m    716\u001b[0m         \"\"\"\n\u001b[0;32m--> 717\u001b[0;31m         \u001b[0;32mreturn\u001b[0m \u001b[0mself\u001b[0m\u001b[0;34m.\u001b[0m\u001b[0m_upsample\u001b[0m\u001b[0;34m(\u001b[0m\u001b[0;34m'asfreq'\u001b[0m\u001b[0;34m,\u001b[0m \u001b[0mfill_value\u001b[0m\u001b[0;34m=\u001b[0m\u001b[0mfill_value\u001b[0m\u001b[0;34m)\u001b[0m\u001b[0;34m\u001b[0m\u001b[0m\n\u001b[0m\u001b[1;32m    718\u001b[0m \u001b[0;34m\u001b[0m\u001b[0m\n\u001b[1;32m    719\u001b[0m     \u001b[0;32mdef\u001b[0m \u001b[0mstd\u001b[0m\u001b[0;34m(\u001b[0m\u001b[0mself\u001b[0m\u001b[0;34m,\u001b[0m \u001b[0mddof\u001b[0m\u001b[0;34m=\u001b[0m\u001b[0;36m1\u001b[0m\u001b[0;34m,\u001b[0m \u001b[0;34m*\u001b[0m\u001b[0margs\u001b[0m\u001b[0;34m,\u001b[0m \u001b[0;34m**\u001b[0m\u001b[0mkwargs\u001b[0m\u001b[0;34m)\u001b[0m\u001b[0;34m:\u001b[0m\u001b[0;34m\u001b[0m\u001b[0m\n",
      "\u001b[0;32m~/anaconda3/lib/python3.6/site-packages/pandas/core/resample.py\u001b[0m in \u001b[0;36m_upsample\u001b[0;34m(self, method, limit, fill_value)\u001b[0m\n\u001b[1;32m    950\u001b[0m             \u001b[0;32mraise\u001b[0m \u001b[0mAssertionError\u001b[0m\u001b[0;34m(\u001b[0m\u001b[0;34m'axis must be 0'\u001b[0m\u001b[0;34m)\u001b[0m\u001b[0;34m\u001b[0m\u001b[0m\n\u001b[1;32m    951\u001b[0m         \u001b[0;32mif\u001b[0m \u001b[0mself\u001b[0m\u001b[0;34m.\u001b[0m\u001b[0m_from_selection\u001b[0m\u001b[0;34m:\u001b[0m\u001b[0;34m\u001b[0m\u001b[0m\n\u001b[0;32m--> 952\u001b[0;31m             raise ValueError(\"Upsampling from level= or on= selection\"\n\u001b[0m\u001b[1;32m    953\u001b[0m                              \u001b[0;34m\" is not supported, use .set_index(...)\"\u001b[0m\u001b[0;34m\u001b[0m\u001b[0m\n\u001b[1;32m    954\u001b[0m                              \u001b[0;34m\" to explicitly set index to\"\u001b[0m\u001b[0;34m\u001b[0m\u001b[0m\n",
      "\u001b[0;31mValueError\u001b[0m: Upsampling from level= or on= selection is not supported, use .set_index(...) to explicitly set index to datetime-like"
     ]
    }
   ],
   "source": [
    "# Change in acceptance and tolerance of homosexuals\n",
    "# LNEGAHO_P - neg homo\n",
    "# O_OPLPO_L_P\n",
    "# O_OPLPO_M_P\n",
    "# O_OPLPO_P\n",
    "\n",
    "def corr_edu_par_homo(region):\n",
    "    dxareas_bbga = bbga.set_index('gebiedcode15')\n",
    "    bev_mask = dxareas_bbga.variabele.str.contains('O_OPLPO_')\n",
    "    \n",
    "    age_groups = dxareas_bbga.loc[(bev_mask) & (dxareas_bbga.index == region)]\n",
    "    age_groups = age_groups.reset_index()\n",
    "    age_groups['jaar'] = pd.to_datetime(age_groups['jaar'], format='%Y')\n",
    "#     age_groups = age_groups.set_index('jaar')\n",
    "\n",
    "    age_groups = age_groups.groupby(['variabele', 'jaar']).sum()\n",
    "    age_groups = age_groups.resample('A', level=1).asfreq()\n",
    "    return age_groups\n",
    "    \n",
    "corr_edu_par_homo('DX20')\n",
    "    \n",
    "# df = df.reset_index()\n",
    "# df['ts'] = pd.to_datetime(df['Timestamp'])\n",
    "# # 'ts' is now datetime of 'Timestamp', you just need to set it to index\n",
    "# df = df.set_index('ts')"
   ]
  },
  {
   "cell_type": "code",
   "execution_count": null,
   "metadata": {},
   "outputs": [],
   "source": []
  }
 ],
 "metadata": {
  "kernelspec": {
   "display_name": "Python 3",
   "language": "python",
   "name": "python3"
  },
  "language_info": {
   "codemirror_mode": {
    "name": "ipython",
    "version": 3
   },
   "file_extension": ".py",
   "mimetype": "text/x-python",
   "name": "python",
   "nbconvert_exporter": "python",
   "pygments_lexer": "ipython3",
   "version": "3.6.5"
  }
 },
 "nbformat": 4,
 "nbformat_minor": 2
}
