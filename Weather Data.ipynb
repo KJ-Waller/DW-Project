{
 "cells": [
  {
   "cell_type": "code",
   "execution_count": 4,
   "metadata": {},
   "outputs": [],
   "source": [
    "import pandas as pd"
   ]
  },
  {
   "cell_type": "code",
   "execution_count": 5,
   "metadata": {},
   "outputs": [],
   "source": [
    "# Read the KNMI csv file into a dataframe\n",
    "knmi_filename = 'KNMI_20181231.csv'\n",
    "weather_df = pd.read_csv(knmi_filename)"
   ]
  },
  {
   "cell_type": "code",
   "execution_count": 6,
   "metadata": {
    "scrolled": true
   },
   "outputs": [],
   "source": [
    "# Column names have surrounding whitespace\n",
    "# We strip them of whitespace and replace column names\n",
    "column_names = weather_df.columns\n",
    "cleaned_column_names = [name.strip() for name in column_names]\n",
    "weather_df.columns = cleaned_column_names"
   ]
  },
  {
   "cell_type": "code",
   "execution_count": 7,
   "metadata": {},
   "outputs": [],
   "source": [
    "# Here we define our collection of columns we want (all correct dates already included, no excess)\n",
    "selected_columns = ['FG','FXX', 'TG', 'TN', 'TX', 'RH', 'VVN', 'VVX', 'NG']\n",
    "# Define new column names for semantic clarity\n",
    "new_column_names = ['avg_windspeed', 'max_windspeed', 'avg_temp', 'min_temp', 'max_temp', 'avg_downfall', 'min_vis', 'max_vis','avg_overcast']\n",
    "# Drop one left over irrelevant N/A row\n",
    "weather_df = weather_df[selected_columns].dropna()\n",
    "# Create date range for the two years (they're not included in the csv)\n",
    "date_range = pd.date_range('2017-01-01 00:00:00', '2018-12-31 00:00:00', freq='D').strftime('%Y-%m-%d')\n",
    "weather_df.columns = new_column_names\n",
    "weather_df['date'] = date_range"
   ]
  },
  {
   "cell_type": "code",
   "execution_count": 8,
   "metadata": {},
   "outputs": [
    {
     "data": {
      "text/plain": [
       "44380"
      ]
     },
     "execution_count": 8,
     "metadata": {},
     "output_type": "execute_result"
    }
   ],
   "source": [
    "# Write file to new weather csv\n",
    "filename = 'weather_schiphol_2017-2018.csv'\n",
    "file = open(filename, 'w')\n",
    "file.write(weather_df.to_csv())"
   ]
  },
  {
   "cell_type": "code",
   "execution_count": 39,
   "metadata": {},
   "outputs": [],
   "source": []
  },
  {
   "cell_type": "code",
   "execution_count": null,
   "metadata": {},
   "outputs": [],
   "source": []
  },
  {
   "cell_type": "code",
   "execution_count": null,
   "metadata": {},
   "outputs": [],
   "source": []
  }
 ],
 "metadata": {
  "kernelspec": {
   "display_name": "Python 3",
   "language": "python",
   "name": "python3"
  },
  "language_info": {
   "codemirror_mode": {
    "name": "ipython",
    "version": 3
   },
   "file_extension": ".py",
   "mimetype": "text/x-python",
   "name": "python",
   "nbconvert_exporter": "python",
   "pygments_lexer": "ipython3",
   "version": "3.6.8"
  }
 },
 "nbformat": 4,
 "nbformat_minor": 2
}
